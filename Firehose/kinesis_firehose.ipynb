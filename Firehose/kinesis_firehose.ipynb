{
 "cells": [
  {
   "cell_type": "markdown",
   "metadata": {},
   "source": [
    "# 🔥 Amazon Kinesis Data Firehose\n",
    "\n",
    "## 📋 Definição\n",
    "Se trata de um serviço **no-code** da familia Kinesis da AWS.\n",
    "\n",
    "## ⚙️ Características Técnicas\n",
    "\n",
    "### 🌐 Arquitetura\n",
    "Tem como característica ser **serveless**.\n",
    "\n",
    "### ⏱️ Latência\n",
    "É uma ferramenta **near-real time** (buffer de 1 minuto a 15 minutos).\n",
    "\n",
    "## 🚀 Funcionalidades Principais\n",
    "Atua em **streaming** e tem como principais funcionalidades:\n",
    "\n",
    "+ **ingestão** de dados\n",
    "+ **transformação** de dados (**opcional**)\n",
    "+ **carregamento** de dados\n",
    "\n",
    "## 💰 Modelo de Custo\n",
    "Seu custo é pautado na **quantidade de dados** que foram processados por ele em GB.\n",
    "\n",
    "## 🎯 Destinos Suportados\n",
    "Seus **destinos** suportados são:\n",
    "\n",
    "+ **S3**\n",
    "+ **Redshift**\n",
    "+ **OpenSearch**\n",
    "+ **Splunk**\n",
    "\n",
    "## 🔄 Capacidades de Transformação\n",
    "\n",
    "### 🗜️ Compressão\n",
    "Nos quesitos de transformação ele pode realizar **compressão** de dados (**GZIP**, SNAPPY, ZIP e LZ4; recomendado GZIP por questões de integração com outras ferramentas como Athena e Redshift).\n",
    "\n",
    "### 📁 Conversão de Formatos\n",
    "**Conversão** de formatos (exemplo: CSV -> Parquet/ORC).\n",
    "\n",
    "### ⚡ Processamento\n",
    "As **transformações** podem ser feitas usando, por exemplo, o **AWS Lambda**."
   ]
  }
 ],
 "metadata": {
  "language_info": {
   "name": "python"
  }
 },
 "nbformat": 4,
 "nbformat_minor": 2
}
