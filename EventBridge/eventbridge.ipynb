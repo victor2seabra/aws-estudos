{
 "cells": [
  {
   "cell_type": "markdown",
   "metadata": {},
   "source": [
    "# O que é?"
   ]
  },
  {
   "cell_type": "markdown",
   "metadata": {},
   "source": [
    "um serviço que permite realizar o monitoramento de ambientes AWS e responder a mudanças, prevenindo vulnerabilidades"
   ]
  },
  {
   "cell_type": "markdown",
   "metadata": {},
   "source": [
    "# Para que usar?"
   ]
  },
  {
   "cell_type": "markdown",
   "metadata": {},
   "source": [
    "+ permite responder a mudanças de StepFunctions States em tempo real\n",
    "\n",
    "+ receber eventos de acordo com mudanças de status de execução de uma StepFunction muda\n",
    "\n",
    "+ passar inputs programados para a execução de StepFunctions"
   ]
  }
 ],
 "metadata": {
  "language_info": {
   "name": "python"
  }
 },
 "nbformat": 4,
 "nbformat_minor": 2
}
