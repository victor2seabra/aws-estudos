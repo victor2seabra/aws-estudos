{
 "cells": [
  {
   "cell_type": "markdown",
   "metadata": {},
   "source": [
    "# JSONata"
   ]
  },
  {
   "cell_type": "markdown",
   "metadata": {},
   "source": [
    "JSONata é uma linguagem de consulta e transformação leve, mas poderosa, projetada para trabalhar com dados JSON. Inspirada no XPath, ela permite que você extraia e manipule informações de estruturas JSON complexas de forma eficiente e concisa."
   ]
  },
  {
   "cell_type": "markdown",
   "metadata": {},
   "source": [
    "## Principais Características"
   ]
  },
  {
   "cell_type": "markdown",
   "metadata": {},
   "source": [
    "* **Combinação de XPath e Notação JSON**: JSONata combina a flexibilidade do XPath com a simplicidade da notação JSON, tornando-a fácil de aprender e usar.\n",
    "\n",
    "* **Consultas e Transformações Complexas**: Permite realizar consultas complexas, filtrar dados, transformar estruturas JSON e realizar cálculos com facilidade.\n",
    "\n",
    "* **Expressões Concisas**: JSONata utiliza expressões concisas e intuitivas, reduzindo a necessidade de escrever código extenso.\n",
    "\n",
    "* **Manipulação de Dados Eficiente**: Projetada para lidar com grandes volumes de dados JSON de forma eficiente, tornando-a ideal para aplicações que exigem alto desempenho."
   ]
  },
  {
   "cell_type": "markdown",
   "metadata": {},
   "source": [
    "## Estruturas de Dados"
   ]
  },
  {
   "cell_type": "markdown",
   "metadata": {},
   "source": [
    "JSONata lida com dois tipos principais de estruturas de dados JSON:"
   ]
  },
  {
   "cell_type": "markdown",
   "metadata": {},
   "source": [
    "### 1. Objects (Objetos)"
   ]
  },
  {
   "cell_type": "markdown",
   "metadata": {},
   "source": [
    "* Análogos a **dicionários** em Python.\n",
    "\n",
    "* Acesso aos valores por meio de dot notation, em vez de colchetes.\n",
    "\n",
    "* **Importante**: **Erros** em consultas a objetos não resultam em erros, mas sim em **valores nulos**.\n",
    "\n",
    "* **Acesso a propriedades com caracteres especiais:**\n",
    "\n",
    "    * Propriedades com espaços ou caracteres reservados como `?` e `$` devem ser acessadas entre crases (`` ` ``).\n",
    "\n",
    "    * **Exemplo:**\n",
    "        ```json\n",
    "        {\n",
    "            \"nome do produto\": \"Laptop\",\n",
    "            \"preço?\": 1200,\n",
    "            \"informação$extra\": \"Garantia de 2 anos\"\n",
    "        }\n",
    "        ```\n",
    "        \n",
    "        * Para acessar \"preço?\": `` `preço?` ``\n",
    "\n",
    "        * Para acessar \"informação$extra\": `` `informação$extra` ``"
   ]
  },
  {
   "cell_type": "markdown",
   "metadata": {},
   "source": [
    "### 2. Arrays (Matrizes)"
   ]
  },
  {
   "cell_type": "markdown",
   "metadata": {},
   "source": [
    "* Análogos a listas em python.\n",
    "\n",
    "* Acesso aos elementos por index.\n",
    "\n",
    "* **Tratamento de Índices**:\n",
    "\n",
    "    * Índices do tipo float são convertidos para o **menor inteiro mais próximo**.\n",
    "\n",
    "    * Valores **não numéricos** são tratados como **predicados (filtros)**.\n",
    "\n",
    "* **Seleção de Ranges**:\n",
    "\n",
    "    * **`Array[[início..fim]]`** para selecionar um **intervalo de elementos** (início e fim inclusivos).\n",
    "    \n",
    "    * **Exemplos:**\n",
    "        ```json\n",
    "        [\n",
    "          \"maçã\",\n",
    "          \"banana\",\n",
    "          \"laranja\",\n",
    "          \"uva\",\n",
    "          \"melancia\",\n",
    "          \"abacaxi\",\n",
    "          \"morango\"\n",
    "        ]\n",
    "        ```\n",
    "        * `$[[2..4]]`: `[\"laranja\", \"uva\", \"melancia\"]`\n",
    "        * `$[[0..2]]`: `[\"maçã\", \"banana\", \"laranja\"]`\n",
    "        * `$[[4..6]]`: `[\"melancia\", \"abacaxi\", \"morango\"]`\n",
    "        * `$[[3..]]`: `[\"uva\", \"melancia\", \"abacaxi\", \"morango\"]`\n",
    "        * `$[[..3]]`: `[\"maçã\", \"banana\", \"laranja\", \"uva\"]`\n",
    "\n",
    "* **Acesso a Arrays Root**:\n",
    "    \n",
    "    * Arrays que não estão dentro de objetos podem ser acessadas usando o símbolo `$`, que representa a raiz do JSON.\n",
    "\n",
    "    * **Exemplo**:\n",
    "        ```json\n",
    "        [\n",
    "          {\n",
    "            \"nome\": \"João\",\n",
    "            \"idade\": 30,\n",
    "            \"endereço\": {\n",
    "              \"cidade\": \"São Paulo\",\n",
    "              \"país\": \"Brasil\"\n",
    "            },\n",
    "            \"hobbies\": [\"leitura\", \"música\"]\n",
    "          },\n",
    "          {\n",
    "            \"nome\": \"Maria\",\n",
    "            \"idade\": 25,\n",
    "            \"endereço\": {\n",
    "              \"cidade\": \"Nova York\",\n",
    "              \"país\": \"EUA\"\n",
    "            },\n",
    "            \"hobbies\": [\"corrida\", \"viagem\"]\n",
    "          },\n",
    "          {\n",
    "            \"nome\": \"Pedro\",\n",
    "            \"idade\": 35,\n",
    "            \"endereço\": {\n",
    "              \"cidade\": \"Londres\",\n",
    "              \"país\": \"Reino Unido\"\n",
    "            },\n",
    "            \"hobbies\": [\"fotografia\", \"cozinha\"]\n",
    "          }\n",
    "        ]\n",
    "        ```\n",
    "        * `$[1].nome`: `\"Maria\"`\n",
    "        * `$.idade`: `[30, 25, 35]`\n",
    "        * `$[0].endereço.cidade`: `\"São Paulo\"`\n",
    "        * `$[2].hobbies[0]`: `\"fotografia\"`\n",
    "        * `$.endereço.país`: `[\"Brasil\", \"EUA\", \"Reino Unido\"]`\n",
    "        * `$[idade > 30].nome`: `[\"Pedro\"]`\n",
    "        * `$.hobbies[]`: `[\"leitura\", \"música\", \"corrida\", \"viagem\", \"fotografia\", \"cozinha\"]`"
   ]
  },
  {
   "cell_type": "markdown",
   "metadata": {},
   "source": [
    "# Amazon States Language (ASL)"
   ]
  },
  {
   "cell_type": "markdown",
   "metadata": {},
   "source": [
    "## Overview"
   ]
  },
  {
   "cell_type": "markdown",
   "metadata": {},
   "source": [
    "**Uma State Machine consiste de um workflow que define uma serie de etapas em um processo**. Elas trazem consigo as seguintes features:\n",
    "\n",
    "* Permite a criação visual de workflows complexos;\n",
    "\n",
    "* Facilita o gerenciamento de workflows;\n",
    "\n",
    "* Facilita a construção de aplicações, processos de automação e orquestração de microsserviços;\n",
    "\n",
    "* São definidas em Amazon States Languages (ASL)\n",
    "\n",
    "**A representação de uma State Machine é feita por meio de objetos JSON.** Logo, toda State Machine se trata de uma composição de um ou mais States.\n",
    "\n",
    "Uma **operação** de uma State Machine é feita especificada fazendo uso de **States**, os quais são os JSON objects.\n",
    "\n",
    "**Os States são definidos na seção `\"States\"` no início (top-level) do objeto.**\n",
    "\n",
    "Um exemplo básico pode ser dado com:\n",
    "\n",
    "```json\n",
    "{\n",
    "  \"Comment\": \"A simple minimal example of the States language\",\n",
    "  \"StartAt\": \"Hello World\",\n",
    "  \"States\": {\n",
    "    \"Hello World\": {\n",
    "      \"Type\": \"Task\",\n",
    "      \"Resource\": \"arn:aws:lambda:us-east-1:123456789012:function:HelloWorld\",\n",
    "      \"End\": true\n",
    "    }\n",
    "  }\n",
    "}\n",
    "```\n",
    "\n",
    "O qual descreve a execução de uma função Lambda denominada de HelloWorld.\n",
    "\n",
    "Ele contém somente um State, logo, somente uma operação é realizada.\n",
    "\n",
    "Podemos observar que um comentário no top-level descrevendo o uso dessa State Machine\n",
    "\n",
    "**`\"StartAt\"` descreve onde se inícia o fluxo de execução dessa State Machine.**\n",
    "\n",
    "Sua execução segue o seguinte procedimento:\n",
    "\n",
    "1.  State Machine é executada;\n",
    "\n",
    "2.  O interpreter faz a análise e identifica onde se inicia o processo pelo `\"StartAt\"`;\n",
    "\n",
    "3.  Executa o `\"StartAt\"`;\n",
    "\n",
    "4.  Finaliza a execução do `\"StartAt\"`;\n",
    "\n",
    "5.  Faz a checagem se há, nesse estado, uma marcação de End State denotada por **`\"End\"`**;\n",
    "\n",
    "6.  Caso haja a definição de um `End`, finaliza-se a execução. Caso contrário, busca pelo próximo State a ser executado e atribuído à Transition **`\"Next\"`** (ou um **`\"Default\"`**, no caso de um `Choice State`);\n",
    "\n",
    "7.  Em situações onde há definição de `\"Next\"` ou `\"Default\"`, se dá sequencia à execução;\n",
    "\n",
    "8.  As etapas 6 e 7 são executadas até que se chegue num State denominado de `Terminal State`, o qual retorna um status de execução (Succeed, Fail ou End State), ou até que seja detectado um erro."
   ]
  },
  {
   "cell_type": "markdown",
   "metadata": {},
   "source": [
    "## Top-level"
   ]
  },
  {
   "cell_type": "markdown",
   "metadata": {},
   "source": [
    "Componentes:\n",
    "\n",
    "*   `\"States\"` representa os States. é um **JSON object**.\n",
    "\n",
    "*   `\"StartAt\"` representa onde se inicia o fluxo. **é uma String**.\n",
    "\n",
    "*   `\"QueryLanguage\"` [OPCIONAL] define a linguagem usada ao longo da State Machine, uma vez que **pode ser JSONata ou JSONPath**, facilitando debugs. **Por padrão é JSONata**.\n",
    "\n",
    "*   `\"Comment\"` [OPCIONAL]\n",
    "\n",
    "*   `\"Version\"` [OPCIONAL] define a **versão da linguagem** usada na escrita da State Machine. Pode ser sobrescrita para um State específico usando esse mesmo key-pair.\n",
    "\n",
    "*   `\"TimeoutSeconds\"` [OPCIONAL] define o **tempo máximo de execução da State Machine em segundos**. Se excedido o tempo, um erro **`States.Timeout`** é reportado."
   ]
  },
  {
   "cell_type": "markdown",
   "metadata": {},
   "source": [
    "## States"
   ]
  },
  {
   "cell_type": "markdown",
   "metadata": {},
   "source": [
    "Descrevem unidades de trabalho (e.g. Task) ou um específico fluxo de controle (e.g. Choice State)\n",
    "\n",
    "**São representados dentro do top-level `\"States\"` object**.\n",
    "\n",
    "**Seu nome deve ser único dentro do escopo da State Machine**.\n",
    "\n",
    "O limite de caracteres que define seu nome é de **80 Unicode**."
   ]
  },
  {
   "cell_type": "markdown",
   "metadata": {},
   "source": [
    "### Composição"
   ]
  },
  {
   "cell_type": "markdown",
   "metadata": {},
   "source": [
    "Sua composição pode possuir campos adicionais dependendo do tipo\n",
    "\n",
    "Estrutura generalista de um State:\n",
    "\n",
    "*   `\"Type\"` define o tipo do State (Task, Choice, Pass, Map, Succeeded,Fail, Wait);\n",
    "\n",
    "*   `\"Comment\"` [OPCIONAL];\n",
    "\n",
    "*   `\"QueryLanguage\"` [OPCIONAL] permite sobrescrever a linguagem definida no top-level. Por padrão é o do top-level;\n",
    "\n",
    "*   `\"End\"` [OPCIONAL SE NÃO POSSUIR NEXT] valor booleano que indica o fim da State Machine se definido como `true`."
   ]
  },
  {
   "cell_type": "markdown",
   "metadata": {},
   "source": [
    "## Tipos de State"
   ]
  },
  {
   "cell_type": "markdown",
   "metadata": {},
   "source": [
    "### Task State"
   ]
  },
  {
   "cell_type": "markdown",
   "metadata": {},
   "source": [
    "são States de executáveis, como uma Lambda ou StepFunction\n",
    "\n",
    "tem em sua composição:\n",
    "\n",
    "*   **\"Type\"** deixa explícito que se trata de uma Task State;\n",
    "\n",
    "*   **\"Resource\"** traz o ARN do executável a ser usado\n",
    "\n",
    "*   **\"End\"** [OPCIONAL] finaliza a State Machine\n",
    "\n",
    "*   **\"Next\"** [OPCIONAL] indica o próximo State a ser executado\n",
    "\n",
    "*   **\"Retry\"** [OPCIONAL] uma **Array** contendo Objects que permite definir como será feita a execução em casos de erros específicos. Tem em sua composição os seguintes fields:\n",
    "\n",
    "    *   **\"ErrorEquals**\" uma **Array** que permite definir como cada tipo ou um conjunto de erros serão tratados\n",
    "    \n",
    "    *   **\"BackoffRate\"** permite definir quanto aumentará o tempo de um retry para outro\n",
    "\n",
    "    *   **\"MaxAttempts\"** numero maximo de retentativas que podem ser feitas para os erros\n",
    "\n",
    "    *   **\"IntervalSeconds\"** tempo que será aguardado para uma nova retentativa\n",
    "\n",
    "    *   **\"Next\"**\n",
    "\n",
    "    ```json\n",
    "    \"Retry\": [\n",
    "        {\n",
    "          \"ErrorEquals\": [\n",
    "            \"States.ALL\"\n",
    "          ],\n",
    "          \"IntervalSeconds\": 3,\n",
    "          \"MaxAttempts\": 2,\n",
    "          \"BackoffRate\": 1.5\n",
    "        }\n",
    "    ]\n",
    "    ```\n",
    "\n",
    "*   **\"Catch\"** [OPCIONAL] **Array** que permite definir como erros serão lidados durante a execução da Task State. se trata de uma Array contendo Objects que por sua vez podem conter os seguintes fields:\n",
    "\n",
    "    *   **\"ErrorEquals\"\"** consiste numa Array que especifica os errors usando `States.`\n",
    "\n",
    "    *   **\"Next\"** especifica o que deve ser executado em sequência\n",
    "\n",
    "podemos ter dois tipos de Task States:\n",
    "\n",
    "+ Activity Task\n",
    "    \n",
    "    + **permite trabalhar com \"serviços externos\" à AWS**, por exemplo, uma aplicação de consumo de API hospedada em qualquer lugar\n",
    "\n",
    "    + **activity workers** são como são chamados tais \"serviços externos\" \n",
    "\n",
    "+ Service Task\n",
    "\n",
    "    + permite fazer **consumo de API de serviços AWS** para executar tarefas específicas"
   ]
  },
  {
   "cell_type": "markdown",
   "metadata": {},
   "source": [
    "#### JSONata"
   ]
  },
  {
   "cell_type": "markdown",
   "metadata": {},
   "source": [
    "*   **\"Arguments\"** [OPCIONAL, **JSONata**]\n",
    "\n",
    "*   **\"Output\"** [OPCIONAL, **JSONata**]"
   ]
  },
  {
   "cell_type": "markdown",
   "metadata": {},
   "source": [
    "#### JSONPath"
   ]
  },
  {
   "attachments": {
    "image-2.png": {
     "image/png": "[encoded data removed]"
    }
   },
   "cell_type": "markdown",
   "metadata": {},
   "source": [
    "*   **\"InputPath\"** [OPCIONAL, **JSONPath**] é um **JSON Object** **permite filtrar o input** a ser usado pelo State **antes de ser processado pelo State reduzindo seu tamanho, otimizando o processamento**. se usado, somente os valores filtrados serão passados do InputPath em diante.\n",
    "\n",
    "*   **\"Parameters\"** [OPCIONAL, **JSONPath**] permite **controlar e manipular o input passado a esta Task State**. Por se tratar de um **JSON object** ele aceita field internos definidos pelo usuário. **cria um novo input que será utilizado pelo Task State**. **permite incorporar novos pares de Fields:Values e também o uso de valores do Context Object**\n",
    "\n",
    "*   **\"ResultSelector\"** [OPCIONAL, **JSONPath**] permite **selecionar e/ou filtrar somente a porção de interesse do output do serviço/atividade**. caso usado com finalidade de filtração, somente os valores selecionados serão passados ao ResultPath em diante. é **executado antes** de **\"ResultPath\"**. **disponível em Task, Map e Parallel States**\n",
    "\n",
    "*   **\"ResultPath\"** [OPCIONAL, **JSONPath**] permite **controlar a combinação do input e do ResultSelector** que serão passadas para o Output do State\n",
    "\n",
    "*   **\"OutputPath\"** [OPCIONAL, **JSONPath**] permite **filtrar o Output de um State para ser passado a outro State**. por padrão é **$**\n",
    "\n",
    "***um Output é o JSON final do resultado de um State, enquanto o Result é o seu resultado bruto, que consiste na junção do input e output. fazendo uma analogia, é o mesmo que comparar `__str__` com `__repr__` em Python***\n",
    "\n",
    "![image-2.png](attachment:image-2.png)"
   ]
  },
  {
   "cell_type": "markdown",
   "metadata": {},
   "source": [
    "### Choice State"
   ]
  },
  {
   "cell_type": "markdown",
   "metadata": {},
   "source": [
    "usado para definição de condicionais\n",
    "\n",
    "*   **\"Choices\"** se trata de uma Array de JSON Objects onde cada JSON Object é uma condição\n",
    "\n",
    "    *   **\"StringEquals\"**\n",
    "\n",
    "    *   **\"Value\"**"
   ]
  },
  {
   "cell_type": "markdown",
   "metadata": {},
   "source": [
    "### Terminal State"
   ]
  },
  {
   "cell_type": "markdown",
   "metadata": {},
   "source": [
    "usado para reportar o status de uma run da State Machine e findá-la\n",
    "\n",
    "pode ser do tipo:\n",
    "\n",
    "*   **\"Succeed\"**;\n",
    "\n",
    "*   **\"Fail\"**;\n",
    "\n",
    "*   **\"End\"**."
   ]
  },
  {
   "cell_type": "markdown",
   "metadata": {},
   "source": [
    "### Parallel State"
   ]
  },
  {
   "cell_type": "markdown",
   "metadata": {},
   "source": [
    "permite paralelizar States de modo a aumentar a performance da State Machine paralelizando States que independem entre si"
   ]
  },
  {
   "cell_type": "markdown",
   "metadata": {},
   "source": [
    "### Map State"
   ]
  },
  {
   "cell_type": "markdown",
   "metadata": {},
   "source": [
    "realiza a iteração elemento por elemento\n",
    "\n",
    "podemos ter dois modos de processamento: **INLINE e DISTRIBUTED**\n",
    "\n",
    "**o modo é definido entro do campo `ProcessorConfig` no subcampo `Mode`, por padrão é INLINE**\n",
    "\n",
    "o modo **INLINE** apresenta **concorrência limitada**, onde **cada iteração do Map é executada no contexto da State Machine**. a StepFunctions faz o **armazenamento do historico de execução nesse modo no workflow**\n",
    "\n",
    "conceitos do modo DISTRIBUTED:\n",
    "\n",
    "+ parent workflow: um workflow que contém o Map State no modo DISTRIBUTED\n",
    "\n",
    "+ child workflow: uma iteração do Map State. tem seu próprio histórico de execução, separado do parent workflow\n",
    "\n",
    "+ map run: um recurso criado na execução do Map. se trata de um conjunto de execuções de child workflows e as configurações que controlam essas execuções. possuem um ARN próprio. pode ser inspecionada usando DescribeMapRun API ou via console. MapRuns emitem métricas para o CloudWatch Metrics, mas podemos ver as métricas de cada child workflow\n",
    "\n",
    "o modo **DISTRIBUTED** apresenta a vantagem de suportar **maior concorrência** e **cada iteração é considerada como uma execução como independente do workflow** que a invoca\n",
    "\n",
    "**o modo DISTRIBUTED por executar cada iteração de modo independente podemos definir tipos de execução a eles como STANDARD e EXPRESS dentro de `ProcessorConfig` usando o subcampo `ExecutionType`**\n",
    "\n",
    "**o modo INLINE é adequado em situações onde o historico de execução do workflow não excede 25.000 entradas ou não precisa de mais de 40 iterações concorrentes**\n",
    "\n",
    "o modo DISTRIBUTED é adequado em situações onde ao menos um dos pontos abaixo é observado:\n",
    "\n",
    "+ o tamanho do input excede 256 KiB\n",
    "+ o historico de execução do workflow pode exceder 25.000 entradas\n",
    "+ necessitamos de uma concorrencia superior a 40\n",
    "\n",
    "a diferença entre os modos se dá também nos formatos de input aceitos:\n",
    "\n",
    "+ INLINE: somente JSON provido do state anterior\n",
    "\n",
    "**+ DISTRIBUTED: aceita além do JSON do state anterior, arquivos JSON que contem uma array e CSV do S3, lista de objetos do S3 e S3 inventory**\n",
    "\n",
    "\n",
    "*   ****\n",
    "Fields:\n",
    "\n",
    "*   **`\"ItemProcessor\"`** (antigo \"Iterator\") é um JSON Object que permite definir uma State Machine que irá processar cada Item ou batelada de Items de uma Array\n",
    "\n",
    "*   **`\"ItemReader\"`** é um JSON Object que define **onde os Items devem ser lidos** ao invés do Input efetivo\n",
    "\n",
    "*   **`\"ItemBatcher\"`** um JSON Object que especifica **como passar os Items para o ItemProcessor** em batelada\n",
    "\n",
    "*   **`\"ResultWriter\"`** um JSON Object que especifica **onde devem ser escritos os resultados de cada Item** ao invés do State Result\n",
    "\n",
    "*   **`\"MaxConcurrency\"`** especifica o número de execuções em paralelo máximo que o Map State poderá fazer\n",
    "\n",
    "*   **`\"ToleratedFailurePercentage\"`** integer que define um **percentual máximo de erro permitido** para falhas de Items\n",
    "\n",
    "*   **`\"ToleratedFailureCount\"\"`** análogo ao anterior porém **em termos de contagem**\n",
    "\n",
    "*   **`\"ItemSelector\"`** (antigo \"Parameters\") JSON Object que sobrepõe cada elemento da Items Array. podemos usá-lo quando queremos passar no Map outros valores dinâmicos, além do Item\n",
    "\n",
    "```json\n",
    "\"ItemSelector\": {\n",
    "    \"parcel.$\": \"$$.Map.Item.Value\",\n",
    "    \"courier.$\": \"$.delivery-partner\"\n",
    "  }\n",
    "```"
   ]
  },
  {
   "cell_type": "markdown",
   "metadata": {},
   "source": [
    "#### JSONata"
   ]
  },
  {
   "cell_type": "markdown",
   "metadata": {},
   "source": [
    "*   **`\"Items\"`** se trata de uma JSON Array ou uma JSONata String, que pode gerar uma JSON Array, definindo quais os Items a serem processados\n",
    "\n",
    "*   **`\"Output\"`**\n",
    "\n",
    "```json\n",
    "\"Validate-All\": {\n",
    "  \"Type\": \"Map\",\n",
    "  \"QueryLanguage\": \"JSONata\",\n",
    "  \"Items\": \"{% $states.input.detail.shipped %}\",\n",
    "  \"MaxConcurrency\": 0,\n",
    "  \"ItemProcessor\": {\n",
    "    \"StartAt\": \"Validate\",\n",
    "    \"States\": {\n",
    "      \"Validate\": {\n",
    "        \"Type\": \"Task\",\n",
    "        \"Resource\": \"arn:aws:lambda:us-east-1:123456789012:function:ship-val\",\n",
    "        \"End\": true\n",
    "      }\n",
    "    }\n",
    "  },\n",
    "  \"Assign\": {\n",
    "    \"shipped\": \"{% $states.result %}\"\n",
    "  },\n",
    "  \"Output\": {\n",
    "    \"numItemsProcessed\": \"{% $count($states.input.detail.shipped) %}\"\n",
    "  },\n",
    "  \"End\": true\n",
    "}\n",
    "```"
   ]
  },
  {
   "cell_type": "markdown",
   "metadata": {},
   "source": [
    "#### JSONPath"
   ]
  },
  {
   "cell_type": "markdown",
   "metadata": {},
   "source": [
    "*   **`\"ItemsPath\"`** define onde se encontram os Items a serem processados dentro do Input\n",
    "\n",
    "*   **`\"ResultSelector\"`** deve seguir um template de Payload\n",
    "\n",
    "*   **`\"ResultPath\"`**\n",
    "\n",
    "*   **`\"OutputPath\"`**"
   ]
  },
  {
   "cell_type": "markdown",
   "metadata": {},
   "source": [
    "### Pass State"
   ]
  },
  {
   "cell_type": "markdown",
   "metadata": {},
   "source": [
    "comumente usado para realizar ajustes de Input/Output de um State para outro\n",
    "\n",
    "a principio ele nao performa nenhuma operação sobre o Input"
   ]
  },
  {
   "cell_type": "markdown",
   "metadata": {},
   "source": [
    "### Wait State"
   ]
  },
  {
   "cell_type": "markdown",
   "metadata": {},
   "source": [
    "faz com que um delay de tempo seja implementado de modo pre definido"
   ]
  },
  {
   "cell_type": "markdown",
   "metadata": {},
   "source": [
    "## Transitions"
   ]
  },
  {
   "cell_type": "markdown",
   "metadata": {},
   "source": [
    "**Tem como função fazer a conexão e definir a ordem de execução dos States**.\n",
    "\n",
    "**Especificado pelo field `\"Next\"` que possui o nome do próximo State a ser executado escrito idênticamente ou `\"End\"`.**\n",
    "\n",
    "**Todos os States que não são terminais devem conter um campo `\"Next\"`**."
   ]
  },
  {
   "cell_type": "markdown",
   "metadata": {},
   "source": [
    "## Timestamps"
   ]
  },
  {
   "cell_type": "markdown",
   "metadata": {},
   "source": [
    "**Choice e Wait States lidam com valores de JSON fields que representam timestamps.**\n",
    "\n",
    "O padrão de timestamp deve seguir a ISO 8601, possuindo o seguinte padrão: **\"2016-03-14T01:59:00Z\"**"
   ]
  },
  {
   "cell_type": "markdown",
   "metadata": {},
   "source": [
    "## Data"
   ]
  },
  {
   "cell_type": "markdown",
   "metadata": {},
   "source": [
    "O interpreter tem como um de suas funções a transmissão de dados de um State para outro com o intuito de performar cálculos (`Task`) ou controlar (Choice State), de modo dinâmico, o fluxo da State Machine.\n",
    "\n",
    "**Todos os dados DEVEM ser transmitidos no formato JSON**.\n",
    "\n",
    "**A referência para dados expressos em JSON é \"JSON text\"**.\n",
    "\n",
    "Ao iniciar a execução da State Machine um JSON text é passado como input.\n",
    "\n",
    "**Se um JSON text input não for passado, um JSON object (`{}`) vazio é usado por padrão**.\n",
    "\n",
    "Conforme ocorre a execução de cada State, cada State recebe um JSON text como input gerando um JSON text como output.\n",
    "\n",
    "**Quando dois States estão interligados via Transition, o input do primeiro é o output da segunda**.\n",
    "\n",
    "**O output de um Terminal State é tratado com o output da State Machine**."
   ]
  },
  {
   "cell_type": "markdown",
   "metadata": {},
   "source": [
    "## Context Object"
   ]
  },
  {
   "cell_type": "markdown",
   "metadata": {},
   "source": [
    "**Se trata de metadados da State Machine que podem ser acessados**\n",
    "\n",
    "inclui informações a respeito de:\n",
    "\n",
    "*   State Machine\n",
    "\n",
    "*   State\n",
    "\n",
    "*   Execução\n",
    "\n",
    "*   Task\n",
    "\n",
    "podemos acessar seus valores nos seguintes Fields e ocasiões:\n",
    "\n",
    "*   InputPath\n",
    "\n",
    "*   ResultSelector\n",
    "\n",
    "*   OutputPath\n",
    "\n",
    "*   ItemsPath (no caso de Map States)\n",
    "\n",
    "*   Variáveis (no caso de Choice States)\n",
    "\n",
    "*   Comparações entre variáveis usando operadores"
   ]
  },
  {
   "cell_type": "markdown",
   "metadata": {},
   "source": [
    "## Tratamento de Erros"
   ]
  },
  {
   "cell_type": "markdown",
   "metadata": {},
   "source": [
    "os possíveis tipos de erros são:\n",
    "\n",
    "*   RuntimeError: ocorre geralmente em situações onde o erro foi **detectado na execução da State Machine** e não foi possível lidar com ele durante a execução. **este tipo de erro não pode ser tratado via \"Retry\"**\n",
    "\n",
    "*   TimeoutError: ocorre quando a execução ultrapassa o limiar de tempo dado a ela via **Field \"TimeoutSeconds\"** ou falhou ao enviar um heartbeat por um período de tempo superior ao passado em **Field \"HeartbeatSeconds\"**\n",
    "\n",
    "*   FailureError: retornado quando uma Task State teve erro em sua execução\n",
    "\n",
    "para tratarmos tais erros, podemos usar o Field discutido anteriormente denominado de **\"Retry\"**, o qual **é uma Array de JSON Objects**\n",
    "\n",
    "cada JSON Object é uma forma de fazer retry com configurações específicas\n",
    "\n",
    "os tipos de erros são passados dentro de \"ErrorEquals\", o qual é uma Array de Strings, onde as Strings são os erros a serem detectados\n",
    "\n",
    "para especificar os erros é usada a **notação \"States.(erro)\"**, onde erro pode ser:\n",
    "\n",
    "*   ALL: detecta qualquer motivo de erro\n",
    "\n",
    "*   Runtime: detecta erros de Runtime **(está controverso no curso)**\n",
    "\n",
    "*   TaskFailed: detecta erros que ocorreram na execução de um Task State"
   ]
  },
  {
   "cell_type": "markdown",
   "metadata": {},
   "source": [
    "## Linguagens"
   ]
  },
  {
   "cell_type": "markdown",
   "metadata": {},
   "source": [
    "**O interpreter deve conseguir usar JSONPath ou JSONata. Ele pode suportar outras linguagens**.\n",
    "\n",
    "**Se um Map ou Parallel State tem uma linguagem específica em uso, esta não é automaticamente propagada para os States internos a ela**. Tais States adotam como padrão a linguagem da State Machine."
   ]
  },
  {
   "cell_type": "markdown",
   "metadata": {},
   "source": [
    "## State Machine Variables"
   ]
  },
  {
   "cell_type": "markdown",
   "metadata": {},
   "source": [
    "Se trata de um valor JSON nomeado.\n",
    "\n",
    "**Um State pode ter em sua estrutura a declaração via `\"Assign\"` de uma variável a qual pode ser usada por um State subsequente**."
   ]
  },
  {
   "cell_type": "markdown",
   "metadata": {},
   "source": [
    "## Intrinsic Functions"
   ]
  },
  {
   "cell_type": "markdown",
   "metadata": {},
   "source": [
    "presentes somente quando usado JSONPath como linguagem"
   ]
  },
  {
   "cell_type": "markdown",
   "metadata": {},
   "source": [
    "### States.Format"
   ]
  },
  {
   "cell_type": "markdown",
   "metadata": {},
   "source": [
    "realiza a interpolação de variaveis em Strings\n",
    "\n",
    "o placeholder de cada variável é definida por **{}**\n",
    "\n",
    "*   primeiro arg: uma String que se deseja realizar a interpolação\n",
    "\n",
    "*   demais args: as variáveis/valores dinâmicos que devem ser inseridos"
   ]
  },
  {
   "cell_type": "markdown",
   "metadata": {},
   "source": [
    "### States.StringToJson"
   ]
  },
  {
   "cell_type": "markdown",
   "metadata": {},
   "source": [
    "realiza a formatação de uma String para JSON\n",
    "\n",
    "**aceita um único valor** sendo este a String a ser convertida\n",
    "\n",
    "**retorna a String formatada em JSON**"
   ]
  },
  {
   "cell_type": "markdown",
   "metadata": {},
   "source": [
    "### States.JsonToString"
   ]
  },
  {
   "cell_type": "markdown",
   "metadata": {},
   "source": [
    "aceita somente um valor\n",
    "\n",
    "**recebe um path definindo um JSON e retorna a string identificada por este path**"
   ]
  },
  {
   "cell_type": "markdown",
   "metadata": {},
   "source": [
    "### States.Array"
   ]
  },
  {
   "cell_type": "markdown",
   "metadata": {},
   "source": [
    "aceita de 0 a mais argumentos\n",
    "\n",
    "**retorna uma Array composta dos elementos dados como argumento**"
   ]
  },
  {
   "cell_type": "markdown",
   "metadata": {},
   "source": [
    "## Boas Práticas"
   ]
  },
  {
   "cell_type": "markdown",
   "metadata": {},
   "source": [
    "1.  **Filtrar somente o que é necessário** para ser usado como Input do State seguinte via ResultPath/OutputPath\n",
    "\n",
    "2.  **Fazer uso ao máximo das expressões nativas** da linguagem usada, evitando códigos customizados\n",
    "\n",
    "3.  **Reduzir o uso de Transitions ao máximo possível usando funções instrinsecas do ASL**. Podem ser usadas dentro de ResultSelector no caso de Task States ou em Parameters ou ResultSelector no caso de um Pass State\n",
    "\n",
    "4.  **Passar o input original para tratamento de erros**, como por exemplo, \"Catch\" e \"ResultPath\". Map e Parallel States aceitam também o uso de Catch, desse modo podemos implementar soluções robustas\n",
    "\n",
    "5.  **Fazer uso de timeouts** evitando execuções \"emperradas\"\n",
    "\n",
    "    ```json\n",
    "    \"ActivityState\": {\n",
    "    \"Type\": \"Task\",\n",
    "    \"Resource\": \"arn:aws:states:us-east-1:123456789012:activity:HelloWorld\",\n",
    "    \"TimeoutSeconds\": 300,\n",
    "    \"HeartbeatSeconds\": 60,\n",
    "    \"Next\": \"NextState\"\n",
    "    }\n",
    "    ```\n",
    "\n",
    "6.  **Passar ARN de recursos ao invés dos próprios payloads** deste modo evitamos de passar o limite de 262,144 bytes\n",
    "\n",
    "    ```json\n",
    "    {\n",
    "    \"Data\": \"arn:aws:s3:::MyBucket/data.json\"\n",
    "    }\n",
    "    ```\n",
    "\n",
    "7.  **Evitar chegar ao limite de quotas de 25,000 entradas do AWS Serivice Quotas no histórico de execução** pois, se caso isso ocorrer não há como aumentar este valor. Uma maneira de se evitar é por meio de **implementação de segmentação da densa State Machine** em chamadas a outras StepFunctions, **evitando esta limitação de uma longa execução concentrada em uma unica StepFunction**\n",
    "    \n",
    "8.  **Tratar possíveis erros de Lambda**. Lambda podem ter cerca de 500 erros possíveis, assim, tratá-los de modo particular pode beneficar o desempenho e debug da State Machine via Retry e/ou Catch\n",
    "\n",
    "    ```json\n",
    "    \"Retry\": [ {\n",
    "    \"ErrorEquals\": [ \"Lambda.ServiceException\", \"Lambda.AWSLambdaException\", \"Lambda.SdkClientException\"],\n",
    "    \"IntervalSeconds\": 2,\n",
    "    \"MaxAttempts\": 6,\n",
    "    \"BackoffRate\": 2\n",
    "    } ]\n",
    "    ```\n",
    "\n",
    "9.  **Evitar latência quando feita checagem de status de Activity Tasks**"
   ]
  }
 ],
 "metadata": {
  "language_info": {
   "name": "python"
  }
 },
 "nbformat": 4,
 "nbformat_minor": 2
}
