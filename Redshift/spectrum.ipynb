{
 "cells": [
  {
   "cell_type": "markdown",
   "id": "c53dbe57",
   "metadata": {},
   "source": [
    "# 🔍 Amazon Redshift Spectrum\n",
    "\n",
    "## 📋 Definição\n",
    "Oferece como serviço uma forma de **performar queries em larga escala (na casa de exabytes)** em um data lake no **S3**.\n",
    "\n",
    "## ⚙️ Opções de Arquitetura\n",
    "**Serverless (Redshift serveless) ou não (Redshift provisioned)**.\n",
    "\n",
    "## 💻 Engine SQL\n",
    "Usa a mesma **engine SQL do Redshift** base (**PostgreSQL-compatible SQL**).\n",
    "\n",
    "## 🔗 Combinação de Dados\n",
    "**Podemos combinar dados do cluster Redshift com dados do S3**, por exemplo, fazer Joins entre tabelas externas e internas.\n",
    "\n",
    "## 🏗️ Arquitetura de Processamento\n",
    "\n",
    "### 🌐 Processamento Distribuído\n",
    "Redshift usa **arquitetura de processamento distribuído**.\n",
    "\n",
    "### 🖥️ Nodes Especializados\n",
    "Seu processamento consiste em usar **nodes especializados (Spectrum nodes) do cluster Redshift** definido.\n",
    "\n",
    "## 🚀 Otimização de Queries\n",
    "Assim como Trino e Spark SQL, ele faz uso de predicate-pushdown para otimização de queries.\n",
    "\n",
    "## 📁 Formatos de Arquivos Suportados\n",
    "Suporta formatos de arquivos:\n",
    "\n",
    "+ **Parquet**\n",
    "+ **Sequence**\n",
    "+ **CSV**\n",
    "+ **TSV**\n",
    "+ **RCFile**\n",
    "\n",
    "## 📚 Integração de Catálogo\n",
    "**Compartilha do mesmo Catalog (Glue Catalog) que o Athena**.\n",
    "\n",
    "## ⚠️ Considerações de Custo\n",
    "**Queries pouco ou mal otimizadas podem trazer custos inesperados**.\n",
    "\n",
    "## 📊 Performance e Otimização\n",
    "\n",
    "### 🎯 Fatores de Performance\n",
    "**Sua performance e custo depende do modo com que os dados se encontram particionados e da compressão usada**.\n",
    "\n",
    "### 💾 Cache de Metadata\n",
    "Para otimizar a performance de queries, o Redshift Spectrum faz uso de **armazenamento em cache de metadata**."
   ]
  }
 ],
 "metadata": {
  "language_info": {
   "name": "python"
  }
 },
 "nbformat": 4,
 "nbformat_minor": 5
}
