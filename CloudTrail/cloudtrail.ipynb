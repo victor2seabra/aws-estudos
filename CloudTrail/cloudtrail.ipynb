{
 "cells": [
  {
   "cell_type": "markdown",
   "metadata": {},
   "source": [
    "# 🔍 **CloudTrail**\n",
    "\n",
    "Uma ferramenta de governança que nos permite rastrear:\n",
    "\n",
    "+ ações feitas por um usuário\n",
    "+ ações feitas por um IAM Role  \n",
    "+ execuções de um serviço\n",
    "\n",
    "O CloudTrail é integrado com o CloudWatch o que nos permite consultar de forma rápida os logs de rastreio\n",
    "\n",
    "\n",
    "# 🎯 **Para que usar?**\n",
    "\n",
    "Rastrear ações e atividades performadas no ambiente AWS das seguintes maneiras:\n",
    "\n",
    "+ via AWS Management Console\n",
    "+ via CLI's\n",
    "+ outros serviços AWS como por exemplo StepFunctions\n",
    "\n",
    "\n",
    "# 💡 **Exemplo de uso**\n",
    "\n",
    "Rastrear todas chamadas de API via uma StepFunction\n",
    "\n",
    "**seja via Management Console, API ou SDK**\n",
    "\n",
    "\n",
    "# 🛤️ **Trails**\n",
    "\n",
    "A criação de trails permite fazer com que determinados logs sejam automaticamente armazenados em um bucket, facilitando fazer queries e rastrear ações"
   ]
  }
 ],
 "metadata": {
  "language_info": {
   "name": "python"
  }
 },
 "nbformat": 4,
 "nbformat_minor": 2
}
